{
 "cells": [
  {
   "cell_type": "markdown",
   "id": "7590c5e7",
   "metadata": {},
   "source": [
    "### 삼항연산자\n",
    "- a if 조건식 else b"
   ]
  },
  {
   "cell_type": "code",
   "execution_count": 1,
   "id": "f759c025",
   "metadata": {
    "scrolled": false
   },
   "outputs": [
    {
     "data": {
      "text/plain": [
       "'합격'"
      ]
     },
     "execution_count": 1,
     "metadata": {},
     "output_type": "execute_result"
    }
   ],
   "source": [
    "score = 80\n",
    "'합격' if score >= 60 else '불합격'"
   ]
  },
  {
   "cell_type": "code",
   "execution_count": 2,
   "id": "5d22fc1f",
   "metadata": {},
   "outputs": [
    {
     "name": "stdout",
     "output_type": "stream",
     "text": [
      "정수입력 >> 5\n",
      "정수입력 >> 4\n",
      "a:5\n"
     ]
    }
   ],
   "source": [
    "a = int(input(\"정수입력 >> \"))\n",
    "b = int(input(\"정수입력 >> \"))\n",
    "print(f'a:{a}')if a>=b else print(f'b:{b}') \n"
   ]
  },
  {
   "cell_type": "markdown",
   "id": "5d19383f",
   "metadata": {},
   "source": [
    "## 두개의 정수를 입력받아 큰 수에서 작은수를 뺀 결과값 출력!"
   ]
  },
  {
   "cell_type": "code",
   "execution_count": 3,
   "id": "79d7ba91",
   "metadata": {},
   "outputs": [
    {
     "name": "stdout",
     "output_type": "stream",
     "text": [
      "첫 번째 정수 입력 >> 4\n",
      "두 번째 정수 입력 >> 56\n",
      "두수의 차 : 52\n"
     ]
    }
   ],
   "source": [
    "a=int(input('첫 번째 정수 입력 >> '))\n",
    "b=int(input('두 번째 정수 입력 >> '))\n",
    "print(f'두수의 차: {a-b}')if a>b else print(f'두수의 차 : {b-a}')"
   ]
  },
  {
   "cell_type": "code",
   "execution_count": 4,
   "id": "985320c5",
   "metadata": {},
   "outputs": [
    {
     "name": "stdout",
     "output_type": "stream",
     "text": [
      "정수 입력 >> 1\n",
      "1는(은) 홀수 입니다.\n"
     ]
    }
   ],
   "source": [
    "a= int(input('정수 입력 >> '))\n",
    "print(f\"{a}는(은) 짝수 입니다.\")if a%2 == 0 else print(f\"{a}는(은) 홀수 입니다.\")"
   ]
  },
  {
   "cell_type": "markdown",
   "id": "4532aac4",
   "metadata": {},
   "source": [
    "### 조건문\n",
    "- if, elif, else"
   ]
  },
  {
   "cell_type": "code",
   "execution_count": 5,
   "id": "28872699",
   "metadata": {},
   "outputs": [
    {
     "name": "stdout",
     "output_type": "stream",
     "text": [
      "if문 밖에있는 문장 실행\n"
     ]
    }
   ],
   "source": [
    "if False:\n",
    "    print('실행문장실행')\n",
    "print('if문 밖에있는 문장 실행')"
   ]
  },
  {
   "cell_type": "code",
   "execution_count": 6,
   "id": "bd7efdca",
   "metadata": {},
   "outputs": [
    {
     "name": "stdout",
     "output_type": "stream",
     "text": [
      "내가 가지고 있는 돈 >> 2\n"
     ]
    }
   ],
   "source": [
    "money = int(input(\"내가 가지고 있는 돈 >> \")) \n",
    "if money >= 10000 :\n",
    "    print('택시를 탄다')"
   ]
  },
  {
   "cell_type": "code",
   "execution_count": 7,
   "id": "2f4d0859",
   "metadata": {},
   "outputs": [
    {
     "name": "stdout",
     "output_type": "stream",
     "text": [
      "내가 가지고 있는 돈 >> 2\n",
      "버스를 못탄다\n"
     ]
    }
   ],
   "source": [
    "money = int(input(\"내가 가지고 있는 돈 >> \")) \n",
    "if money >= 9000 :\n",
    "    print('버스를 탄다')\n",
    "else:\n",
    "    print(\"버스를 못탄다\")"
   ]
  },
  {
   "cell_type": "code",
   "execution_count": 8,
   "id": "5223b8a2",
   "metadata": {},
   "outputs": [
    {
     "name": "stdout",
     "output_type": "stream",
     "text": [
      "정수 입력 >> 2\n",
      "3과 5의 배수가 아닙니다.\n"
     ]
    }
   ],
   "source": [
    "num = int(input('정수 입력 >> '))\n",
    "if num%3 == 0 and num%5 == 0 :\n",
    "    print('3과 5의 배수입니다.')\n",
    "else:\n",
    "    print(\"3과 5의 배수가 아닙니다.\")"
   ]
  },
  {
   "cell_type": "code",
   "execution_count": 9,
   "id": "3de732d0",
   "metadata": {},
   "outputs": [
    {
     "name": "stdout",
     "output_type": "stream",
     "text": [
      "첫 번째 정수 입력 >>2\n",
      "두 번째 정수 입력 >>2\n",
      "두수가 똑같습니다.\n"
     ]
    }
   ],
   "source": [
    "num1 = int(input(\"첫 번째 정수 입력 >>\"))\n",
    "num2 = int(input(\"두 번째 정수 입력 >>\"))\n",
    "if num1 > num2 :\n",
    "    print(\"첫 번째 정수가 더 큽니다\")\n",
    "elif num1 == num2 :\n",
    "    print(\"두수가 똑같습니다.\")\n",
    "else:\n",
    "    print(\"두 번째 정수가 더 큽니다.\")"
   ]
  },
  {
   "cell_type": "code",
   "execution_count": 10,
   "id": "92b5a427",
   "metadata": {},
   "outputs": [
    {
     "name": "stdout",
     "output_type": "stream",
     "text": [
      "점수 입력 >> 2\n",
      "2점은 F학점 입니다.\n"
     ]
    }
   ],
   "source": [
    "score = int(input(\"점수 입력 >> \"))\n",
    "\n",
    "if 90 <= score :\n",
    "    print(f\"{score}점은 A학점 입니다.\")\n",
    "elif 90 > score >= 80 :\n",
    "    print(f\"{score}점은 B학점 입니다.\")\n",
    "elif 80 > score >= 70 :\n",
    "    print(f\"{score}점은 C학점 입니다.\")\n",
    "elif 70 > score >= 60 :\n",
    "    print(f\"{score}점은 D학점 입니다.\")\n",
    "else :\n",
    "    print(f\"{score}점은 F학점 입니다.\")"
   ]
  },
  {
   "cell_type": "code",
   "execution_count": 11,
   "id": "4c954513",
   "metadata": {},
   "outputs": [
    {
     "name": "stdout",
     "output_type": "stream",
     "text": [
      "insert coin  >> 2\n",
      "\n",
      "================================================\n",
      "================---- 자판기 ----================\n",
      "================================================\n",
      "== 1.콜라 == 2.사이다 ==  3.물  =======insert===\n",
      "==--------==----------==--------=======------===\n",
      "==   600  ==    800   ==  1000  ======= 2원===\n",
      "=======================================------===\n",
      "================================================\n",
      "==++++++++++++++++++++++++++++++++++++++++++++==\n",
      "==++++++++++++++++++++++++++++++++++++++++++++==\n",
      "==++++++++++++++++++++++++++++++++++++++++++++==\n",
      "==+++++++++++++++              +++++++++++++++==\n",
      "==+++++++++++++++     SMHRD    +++++++++++++++==\n",
      "==+++++++++++++++              +++++++++++++++==\n",
      "==++++++++++++++++++++++++++++++++++++++++++++==\n",
      "==++++++++++++++++++++++++++++++++++++++++++++==\n",
      "================================================\n",
      "================================================\n",
      "  ===                                      ===\n",
      "  ===                                      ===\n",
      "\n",
      "메뉴 선택 >> 2\n",
      "잔돈 >> 1000원 : -1 , 500원 : 0 , 100원 : 2\n",
      "잔돈이 부족합니다.\n"
     ]
    }
   ],
   "source": [
    "coin = int(input(\"insert coin  >> \"))\n",
    "print(f'''\n",
    "================================================\n",
    "================---- 자판기 ----================\n",
    "================================================\n",
    "== 1.콜라 == 2.사이다 ==  3.물  =======insert===\n",
    "==--------==----------==--------=======------===\n",
    "==   600  ==    800   ==  1000  ======= {coin}원===\n",
    "=======================================------===\n",
    "================================================\n",
    "==++++++++++++++++++++++++++++++++++++++++++++==\n",
    "==++++++++++++++++++++++++++++++++++++++++++++==\n",
    "==++++++++++++++++++++++++++++++++++++++++++++==\n",
    "==+++++++++++++++              +++++++++++++++==\n",
    "==+++++++++++++++     SMHRD    +++++++++++++++==\n",
    "==+++++++++++++++              +++++++++++++++==\n",
    "==++++++++++++++++++++++++++++++++++++++++++++==\n",
    "==++++++++++++++++++++++++++++++++++++++++++++==\n",
    "================================================\n",
    "================================================\n",
    "  ===                                      ===\n",
    "  ===                                      ===\n",
    "''')\n",
    "\n",
    "\n",
    "menu = int(input(\"메뉴 선택 >> \"))\n",
    "\n",
    "if menu == 1 :\n",
    "    coin -= 600\n",
    "    print(f\"잔돈 >> 1000원 : {coin//1000} , 500원 : {coin%1000//500} , 100원 : {coin%500//100}\")\n",
    "elif menu == 2:\n",
    "    coin-= 800\n",
    "    print(f\"잔돈 >> 1000원 : {coin//1000} , 500원 : {coin%1000//500} , 100원 : {coin%500//100}\")\n",
    "elif menu==3:\n",
    "    coin -= 1000\n",
    "    print(f\"잔돈 >> 1000원 : {coin//1000} , 500원 : {coin%1000//500} , 100원 : {coin%500//100}\")\n",
    "else:\n",
    "    print(\"선택가능한게 없습니다.\")\n",
    "if coin < 0 :\n",
    "    print(\"잔돈이 부족합니다.\")\n"
   ]
  },
  {
   "cell_type": "markdown",
   "id": "91f0c886",
   "metadata": {},
   "source": [
    "### 리스트\n",
    " - 파이썬의 자료구조 형태중 하나\n",
    " - 순서가 있는 수정이 가능한 객체의 집합\n",
    " - 추가,수정,삭제 가능!!"
   ]
  },
  {
   "cell_type": "code",
   "execution_count": 12,
   "id": "099f50d3",
   "metadata": {},
   "outputs": [
    {
     "name": "stdout",
     "output_type": "stream",
     "text": [
      "[1, 2, ['my', 'name']]\n"
     ]
    }
   ],
   "source": [
    "a = []\n",
    "b= [1,2,3]\n",
    "c = [\"m\",\"name\"]\n",
    "d= [1,2,'my','name']\n",
    "e= [1,2,['my','name']]\n",
    "print(e)"
   ]
  },
  {
   "cell_type": "code",
   "execution_count": 13,
   "id": "fe5d97b8",
   "metadata": {},
   "outputs": [
    {
     "name": "stdout",
     "output_type": "stream",
     "text": [
      "9\n",
      "17\n"
     ]
    }
   ],
   "source": [
    "list1 = [2,5,7,9,10]\n",
    "print(list1[3])\n",
    "print(list1[2]+list1[-1])"
   ]
  },
  {
   "cell_type": "code",
   "execution_count": 14,
   "id": "34278cb5",
   "metadata": {},
   "outputs": [
    {
     "name": "stdout",
     "output_type": "stream",
     "text": [
      "[1, 2, 3, ['a', 'b', 'c']]\n"
     ]
    }
   ],
   "source": [
    "list2 = [1,2,3,['a','b','c']]\n",
    "print(list2)"
   ]
  },
  {
   "cell_type": "code",
   "execution_count": 15,
   "id": "ad4f40ee",
   "metadata": {},
   "outputs": [
    {
     "name": "stdout",
     "output_type": "stream",
     "text": [
      "['a', 'b', 'c']\n"
     ]
    }
   ],
   "source": [
    "temp = list2[3]\n",
    "print(temp)"
   ]
  },
  {
   "cell_type": "code",
   "execution_count": 16,
   "id": "19cd0e52",
   "metadata": {},
   "outputs": [
    {
     "name": "stdout",
     "output_type": "stream",
     "text": [
      "b\n",
      "b\n"
     ]
    }
   ],
   "source": [
    "#b를 출력하세요!\n",
    "print(temp[1])\n",
    "print(list2[3][1])"
   ]
  },
  {
   "cell_type": "code",
   "execution_count": 18,
   "id": "e7e2135d",
   "metadata": {},
   "outputs": [
    {
     "name": "stdout",
     "output_type": "stream",
     "text": [
      "[1, 2]\n",
      "[0, 1]\n",
      "[3]\n"
     ]
    }
   ],
   "source": [
    "list3 = [ 0,1,2,3,4]\n",
    "print(list3[1:3])\n",
    "print(list3[:2])\n",
    "print(list3[3:4])"
   ]
  },
  {
   "cell_type": "code",
   "execution_count": 19,
   "id": "147b977f",
   "metadata": {},
   "outputs": [
    {
     "data": {
      "text/plain": [
       "[1, 2, 3, 3, 4, 5, 6]"
      ]
     },
     "execution_count": 19,
     "metadata": {},
     "output_type": "execute_result"
    }
   ],
   "source": [
    "list4=[1,2,3]\n",
    "list5 = [3,4,5,6]\n",
    "list4+list5"
   ]
  },
  {
   "cell_type": "code",
   "execution_count": 21,
   "id": "8983b541",
   "metadata": {},
   "outputs": [
    {
     "name": "stdout",
     "output_type": "stream",
     "text": [
      "[0, 1, 2, 3, 4, 5]\n"
     ]
    }
   ],
   "source": [
    "#append함수를 활용한 값 추가(맨 뒤에 값이 추가된다)\n",
    "list6 = [0,1,2,3,4]\n",
    "list6.append(5)\n",
    "print(list6)"
   ]
  },
  {
   "cell_type": "code",
   "execution_count": 28,
   "id": "dbf7d8e8",
   "metadata": {},
   "outputs": [
    {
     "name": "stdout",
     "output_type": "stream",
     "text": [
      "['사과', '수박', '오렌지']\n"
     ]
    }
   ],
   "source": [
    "list = ['사과','포도',['수박','멜론'],'복숭아','딸기','오렌지']\n",
    "list_apple = list[0]\n",
    "list_watermelon = list[2][0]\n",
    "list_orange = list[5]\n",
    "choice_list = []\n",
    "choice_list.append(list_apple)\n",
    "choice_list.append(list_watermelon)\n",
    "choice_list.append(list_orange)\n",
    "print(choice_list)\n"
   ]
  },
  {
   "cell_type": "markdown",
   "id": "238c137b",
   "metadata": {},
   "source": [
    "## insert(인덱스위치,값) 함수사용\n",
    "- 인덱스 위치에 값 추가"
   ]
  },
  {
   "cell_type": "code",
   "execution_count": 29,
   "id": "55cad802",
   "metadata": {},
   "outputs": [
    {
     "name": "stdout",
     "output_type": "stream",
     "text": [
      "[0, 5, 1, 2, 3, 4]\n"
     ]
    }
   ],
   "source": [
    "list5 = [0,1,2,3,4]\n",
    "list5.insert(1,5)\n",
    "\n",
    "print(list5)"
   ]
  },
  {
   "cell_type": "code",
   "execution_count": 30,
   "id": "105e8c72",
   "metadata": {
    "scrolled": true
   },
   "outputs": [
    {
     "name": "stdout",
     "output_type": "stream",
     "text": [
      "[0, 5, 1, 2, 3, 6, 4]\n"
     ]
    }
   ],
   "source": [
    "list5.insert(5,6)\n",
    "print(list5)"
   ]
  },
  {
   "cell_type": "code",
   "execution_count": 23,
   "id": "8f17a9f5",
   "metadata": {},
   "outputs": [
    {
     "name": "stdout",
     "output_type": "stream",
     "text": [
      "인덱스위치입력 >> 2\n",
      "노래 제목 입력 >> 롤린\n",
      "가수 입력 >> 브레이브걸\n",
      "music_list: [['butter', '방탄'], ['헤픈 우연', '헤이즈'], ['롤린', '브레이브걸'], ['라일락', '아이유']]\n"
     ]
    }
   ],
   "source": [
    "music_list = [[\"butter\",\"방탄\"],[\"헤픈 우연\",\"헤이즈\"],[\"라일락\",\"아이유\"]]\n",
    "loc = int(input(\"인덱스위치입력 >> \"))\n",
    "song = input(\"노래 제목 입력 >> \")\n",
    "singer = input(\"가수 입력 >> \")\n",
    "music_list.insert(loc,[song,singer])\n",
    "                \n",
    "print('music_list:',music_list)\n"
   ]
  },
  {
   "cell_type": "code",
   "execution_count": 9,
   "id": "7a69d3e0",
   "metadata": {},
   "outputs": [
    {
     "data": {
      "text/plain": [
       "[0, 1, 2, 3, 4, 5]"
      ]
     },
     "execution_count": 9,
     "metadata": {},
     "output_type": "execute_result"
    }
   ],
   "source": [
    "list6= [0,1,2,3,4,5]\n",
    "list6"
   ]
  },
  {
   "cell_type": "code",
   "execution_count": 10,
   "id": "fb9892fc",
   "metadata": {
    "scrolled": true
   },
   "outputs": [
    {
     "name": "stdout",
     "output_type": "stream",
     "text": [
      "수정 전 :  1\n",
      "수정 후 :  7\n"
     ]
    }
   ],
   "source": [
    "print('수정 전 : ',list6[1])\n",
    "list6[1] = 7 \n",
    "print('수정 후 : ',list6[1])"
   ]
  },
  {
   "cell_type": "code",
   "execution_count": 11,
   "id": "c4c46064",
   "metadata": {},
   "outputs": [
    {
     "data": {
      "text/plain": [
       "[0, 7, 2, 3, 4, 5]"
      ]
     },
     "execution_count": 11,
     "metadata": {},
     "output_type": "execute_result"
    }
   ],
   "source": [
    "list6"
   ]
  },
  {
   "cell_type": "code",
   "execution_count": 14,
   "id": "1fd40963",
   "metadata": {},
   "outputs": [
    {
     "name": "stdout",
     "output_type": "stream",
     "text": [
      "[0, 7, 2, 7, 5]\n"
     ]
    }
   ],
   "source": [
    "list6[3:5] = [7]\n",
    "print(list6)"
   ]
  },
  {
   "cell_type": "code",
   "execution_count": 22,
   "id": "d65c221e",
   "metadata": {},
   "outputs": [
    {
     "name": "stdout",
     "output_type": "stream",
     "text": [
      "[1, 2, 3, 4, 7]\n",
      "[1, ['a', 'b', 'c'], 3, 4, 7]\n",
      "[1, ['a', 'b', 'c'], 3, 'd', 'e', 'f', 'g']\n",
      "['h', 'i', 'j', ['a', 'b', 'c'], 3, 'd', 'e', 'f', 'g']\n"
     ]
    }
   ],
   "source": [
    "array = [1,2,3,4,5]\n",
    "array[-1] = 7\n",
    "print(array)\n",
    "array[1] = [\"a\",\"b\",\"c\"]\n",
    "print(array)\n",
    "array[3:] = [\"d\",\"e\",\"f\",\"g\"]\n",
    "print(array)\n",
    "array[:1] = [\"h\",\"i\",\"j\"]\n",
    "print(array)"
   ]
  },
  {
   "cell_type": "code",
   "execution_count": 23,
   "id": "23ba6309",
   "metadata": {},
   "outputs": [
    {
     "data": {
      "text/plain": [
       "[0, 2, 3, 4, 5]"
      ]
     },
     "execution_count": 23,
     "metadata": {},
     "output_type": "execute_result"
    }
   ],
   "source": [
    "list7 = [0,1,2,3,4,5]\n",
    "#del 키워드\n",
    "del list7[1]\n",
    "list7"
   ]
  },
  {
   "cell_type": "code",
   "execution_count": 24,
   "id": "0b0b06cb",
   "metadata": {},
   "outputs": [
    {
     "data": {
      "text/plain": [
       "[0, 5]"
      ]
     },
     "execution_count": 24,
     "metadata": {},
     "output_type": "execute_result"
    }
   ],
   "source": [
    "del list7[1:4]\n",
    "list7"
   ]
  },
  {
   "cell_type": "code",
   "execution_count": 26,
   "id": "b15f7693",
   "metadata": {},
   "outputs": [
    {
     "data": {
      "text/plain": [
       "['a', 'c', 'd', 'e']"
      ]
     },
     "execution_count": 26,
     "metadata": {},
     "output_type": "execute_result"
    }
   ],
   "source": [
    "#remove() 함수 이용해서 값 삭제\n",
    "list7 = ['a','b','c','d','e','b']\n",
    "list7.remove('b')\n",
    "list7\n",
    "list7.remove('b')\n",
    "list7"
   ]
  },
  {
   "cell_type": "code",
   "execution_count": 29,
   "id": "85b25957",
   "metadata": {},
   "outputs": [
    {
     "data": {
      "text/plain": [
       "[9, 77, 13, 51, 100, 3]"
      ]
     },
     "execution_count": 29,
     "metadata": {},
     "output_type": "execute_result"
    }
   ],
   "source": [
    "#sort() 리스트에 있는 값을 오름차순으로 정렬\n",
    "list8 = [9,77,13,51,100,3]\n",
    "list8\n"
   ]
  },
  {
   "cell_type": "code",
   "execution_count": 30,
   "id": "854fa412",
   "metadata": {},
   "outputs": [
    {
     "data": {
      "text/plain": [
       "[3, 9, 13, 51, 77, 100]"
      ]
     },
     "execution_count": 30,
     "metadata": {},
     "output_type": "execute_result"
    }
   ],
   "source": [
    "list8.sort()\n",
    "list8"
   ]
  },
  {
   "cell_type": "code",
   "execution_count": 38,
   "id": "8c67e8c7",
   "metadata": {},
   "outputs": [
    {
     "data": {
      "text/plain": [
       "[9, 77, 13, 51, 100, 3]"
      ]
     },
     "execution_count": 38,
     "metadata": {},
     "output_type": "execute_result"
    }
   ],
   "source": [
    "#reverse() 리스트에 있는 값을 역순으로 뒤집음, \n",
    "#원래 True값이 역순이기때문에  False값으로 넣으면 정방향으로 사용가능!\n",
    "list9 = [9,77,13,51,100,3]\n",
    "list9\n"
   ]
  },
  {
   "cell_type": "code",
   "execution_count": 33,
   "id": "39539efc",
   "metadata": {},
   "outputs": [
    {
     "data": {
      "text/plain": [
       "[3, 100, 51, 13, 77, 9]"
      ]
     },
     "execution_count": 33,
     "metadata": {},
     "output_type": "execute_result"
    }
   ],
   "source": [
    "list9.reverse()\n",
    "list9"
   ]
  },
  {
   "cell_type": "code",
   "execution_count": 42,
   "id": "9c3a0daa",
   "metadata": {},
   "outputs": [
    {
     "data": {
      "text/plain": [
       "[100, 77, 51, 13, 9, 3]"
      ]
     },
     "execution_count": 42,
     "metadata": {},
     "output_type": "execute_result"
    }
   ],
   "source": [
    "list9.sort()\n",
    "list9.reverse()\n",
    "list9"
   ]
  },
  {
   "cell_type": "code",
   "execution_count": 45,
   "id": "5c759f9d",
   "metadata": {},
   "outputs": [
    {
     "data": {
      "text/plain": [
       "[3, 9, 13, 51, 77, 100]"
      ]
     },
     "execution_count": 45,
     "metadata": {},
     "output_type": "execute_result"
    }
   ],
   "source": [
    "list9\n",
    "list9.sort(reverse = False)\n",
    "list9\n"
   ]
  },
  {
   "cell_type": "code",
   "execution_count": 52,
   "id": "7c196397",
   "metadata": {},
   "outputs": [
    {
     "data": {
      "text/plain": [
       "2"
      ]
     },
     "execution_count": 52,
     "metadata": {},
     "output_type": "execute_result"
    }
   ],
   "source": [
    "#index() 찾고자하는 값의 위치를 반환\n",
    "list11 = ['a','b','c','d','e','f','c','c']\n",
    "list11.index('c')"
   ]
  },
  {
   "cell_type": "code",
   "execution_count": 53,
   "id": "b3ea377e",
   "metadata": {},
   "outputs": [
    {
     "data": {
      "text/plain": [
       "3"
      ]
     },
     "execution_count": 53,
     "metadata": {},
     "output_type": "execute_result"
    }
   ],
   "source": [
    "#count() 찾고자하는 값이 몇번들어있는지 반환\n",
    "list11.count('c')"
   ]
  },
  {
   "cell_type": "code",
   "execution_count": 55,
   "id": "c094ce72",
   "metadata": {},
   "outputs": [
    {
     "data": {
      "text/plain": [
       "['a', 'b', 'c', 'd', 'e', 'f']"
      ]
     },
     "execution_count": 55,
     "metadata": {},
     "output_type": "execute_result"
    }
   ],
   "source": [
    "#pop() 마지막 값을 반환 후 삭제!\n",
    "list11.pop()\n",
    "list11"
   ]
  },
  {
   "cell_type": "code",
   "execution_count": 58,
   "id": "92af2bac",
   "metadata": {},
   "outputs": [
    {
     "data": {
      "text/plain": [
       "6"
      ]
     },
     "execution_count": 58,
     "metadata": {},
     "output_type": "execute_result"
    }
   ],
   "source": [
    "#len(리스트) 리스트 값 개수 반환\n",
    "list12 = [0,1,2]\n",
    "len(list12)\n",
    "len(list11)"
   ]
  },
  {
   "cell_type": "code",
   "execution_count": null,
   "id": "f34f067e",
   "metadata": {},
   "outputs": [],
   "source": []
  },
  {
   "cell_type": "code",
   "execution_count": null,
   "id": "bfd57da6",
   "metadata": {},
   "outputs": [],
   "source": []
  },
  {
   "cell_type": "code",
   "execution_count": null,
   "id": "0b06ff76",
   "metadata": {},
   "outputs": [],
   "source": []
  }
 ],
 "metadata": {
  "kernelspec": {
   "display_name": "Python 3 (ipykernel)",
   "language": "python",
   "name": "python3"
  },
  "language_info": {
   "codemirror_mode": {
    "name": "ipython",
    "version": 3
   },
   "file_extension": ".py",
   "mimetype": "text/x-python",
   "name": "python",
   "nbconvert_exporter": "python",
   "pygments_lexer": "ipython3",
   "version": "3.9.7"
  }
 },
 "nbformat": 4,
 "nbformat_minor": 5
}
